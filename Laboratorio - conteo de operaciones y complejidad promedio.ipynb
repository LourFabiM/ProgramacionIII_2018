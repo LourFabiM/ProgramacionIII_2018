{
 "cells": [
  {
   "cell_type": "markdown",
   "metadata": {},
   "source": [
    "Tomando como ejemplo el conteo de operaciones de *comparación* en el algoritmo de ordenación por selección, estudiaremos cómo varía la cantidad de operaciones según el caso de entrada y estimaremos la complejidad del caso promedio."
   ]
  },
  {
   "cell_type": "markdown",
   "metadata": {},
   "source": [
    "# Ejercicios"
   ]
  },
  {
   "cell_type": "markdown",
   "metadata": {},
   "source": [
    "## 1. Contando operaciones"
   ]
  },
  {
   "cell_type": "markdown",
   "metadata": {},
   "source": [
    "1\\.1 Implementar las funciones $\\texttt{swap}$, $\\texttt{insert}$ y $\\texttt{selection_sort}$ como se vieron en el teórico. "
   ]
  },
  {
   "cell_type": "code",
   "execution_count": 10,
   "metadata": {},
   "outputs": [],
   "source": [
    "def swap(arreglo,i,j):\n",
    "    n = arreglo[i]\n",
    "    arreglo[i] = arreglo[j]\n",
    "    arreglo[j] = n\n",
    "    return"
   ]
  },
  {
   "cell_type": "code",
   "execution_count": 11,
   "metadata": {},
   "outputs": [],
   "source": [
    "def insert(arreglo, indice):\n",
    "    elem = arreglo[indice]\n",
    "    j = indice - 1\n",
    "    encontre = False\n",
    "    comparaciones = 0\n",
    "    while(j >= 0 and (not encontre)):\n",
    "        if elem >= arreglo[j]:\n",
    "            encontre = True\n",
    "        else:\n",
    "            swap(arreglo, j, j+1)\n",
    "            j -= 1\n",
    "        comparaciones += 1\n",
    "        #print (arreglo)\n",
    "    #print (\"Comparaciones: \", comparaciones)\n",
    "    return comparaciones"
   ]
  },
  {
   "cell_type": "code",
   "execution_count": 12,
   "metadata": {},
   "outputs": [],
   "source": [
    "def insertion_sort(arreglo):\n",
    "    comparaciones = 0\n",
    "    for i in range(1,len(arreglo)):\n",
    "        comparaciones += insert(arreglo, i)\n",
    "    #print (\"Comparaciones: \", comparaciones)\n",
    "    #return arreglo, comparaciones\n",
    "    return comparaciones"
   ]
  },
  {
   "cell_type": "code",
   "execution_count": 13,
   "metadata": {
    "scrolled": false
   },
   "outputs": [
    {
     "data": {
      "text/plain": [
       "9"
      ]
     },
     "execution_count": 13,
     "metadata": {},
     "output_type": "execute_result"
    }
   ],
   "source": [
    "a = [34,5,8,19,1]\n",
    "insertion_sort(a)"
   ]
  },
  {
   "cell_type": "code",
   "execution_count": 14,
   "metadata": {},
   "outputs": [
    {
     "data": {
      "text/plain": [
       "9"
      ]
     },
     "execution_count": 14,
     "metadata": {},
     "output_type": "execute_result"
    }
   ],
   "source": [
    "a = [41,15,8,9,11]\n",
    "insertion_sort(a)"
   ]
  },
  {
   "cell_type": "code",
   "execution_count": 15,
   "metadata": {},
   "outputs": [
    {
     "data": {
      "text/plain": [
       "11"
      ]
     },
     "execution_count": 15,
     "metadata": {},
     "output_type": "execute_result"
    }
   ],
   "source": [
    "a = [77,3,21,9,50,44]\n",
    "insertion_sort(a)"
   ]
  },
  {
   "cell_type": "markdown",
   "metadata": {},
   "source": [
    "1\\.2 Probemos ahora el algoritmo con un caso sencillo:\n",
    " * crear un arreglo $a$ con $5$ elementos y reordenarlos al azar\n",
    " * correr $\\texttt{insertion_sort}$ y asegurarse de que $a$ queda ordenado"
   ]
  },
  {
   "cell_type": "markdown",
   "metadata": {},
   "source": [
    "1\\.3 Modificar $\\texttt{insert}$ e $\\texttt{insertion_sort}$ para que además al ser llamados, devuelvan la cantidad de comparaciones que realizan."
   ]
  },
  {
   "cell_type": "markdown",
   "metadata": {},
   "source": [
    "1\\.4 Probar nuevamente con un arreglo de $5$ elementos ordenados al azar, y comprobar además que el número de comparaciones devuelto es correcto."
   ]
  },
  {
   "cell_type": "markdown",
   "metadata": {},
   "source": [
    "## 2. Estimando el caso promedio"
   ]
  },
  {
   "cell_type": "markdown",
   "metadata": {},
   "source": [
    "2\\.1 Usando las funciones de la sección anterior, generar $500$ reordenaciones de un arreglo de $20$ elementos y guardar en una lista los conteos de comparaciones obtenidos en cada caso."
   ]
  },
  {
   "cell_type": "code",
   "execution_count": 16,
   "metadata": {},
   "outputs": [
    {
     "data": {
      "text/plain": [
       "[94,\n",
       " 124,\n",
       " 128,\n",
       " 86,\n",
       " 106,\n",
       " 114,\n",
       " 105,\n",
       " 137,\n",
       " 108,\n",
       " 117,\n",
       " 100,\n",
       " 136,\n",
       " 111,\n",
       " 119,\n",
       " 129,\n",
       " 114,\n",
       " 116,\n",
       " 104,\n",
       " 84,\n",
       " 106,\n",
       " 103,\n",
       " 134,\n",
       " 98,\n",
       " 124,\n",
       " 116,\n",
       " 105,\n",
       " 98,\n",
       " 123,\n",
       " 120,\n",
       " 130,\n",
       " 94,\n",
       " 106,\n",
       " 109,\n",
       " 107,\n",
       " 105,\n",
       " 152,\n",
       " 97,\n",
       " 100,\n",
       " 113,\n",
       " 116,\n",
       " 99,\n",
       " 127,\n",
       " 93,\n",
       " 94,\n",
       " 104,\n",
       " 91,\n",
       " 103,\n",
       " 105,\n",
       " 104,\n",
       " 120,\n",
       " 119,\n",
       " 121,\n",
       " 136,\n",
       " 110,\n",
       " 101,\n",
       " 127,\n",
       " 106,\n",
       " 115,\n",
       " 128,\n",
       " 73,\n",
       " 102,\n",
       " 131,\n",
       " 99,\n",
       " 105,\n",
       " 125,\n",
       " 110,\n",
       " 128,\n",
       " 105,\n",
       " 123,\n",
       " 99,\n",
       " 89,\n",
       " 101,\n",
       " 97,\n",
       " 113,\n",
       " 112,\n",
       " 101,\n",
       " 120,\n",
       " 86,\n",
       " 84,\n",
       " 95,\n",
       " 120,\n",
       " 105,\n",
       " 127,\n",
       " 103,\n",
       " 120,\n",
       " 110,\n",
       " 117,\n",
       " 89,\n",
       " 138,\n",
       " 104,\n",
       " 114,\n",
       " 106,\n",
       " 109,\n",
       " 107,\n",
       " 116,\n",
       " 122,\n",
       " 100,\n",
       " 126,\n",
       " 121,\n",
       " 103,\n",
       " 110,\n",
       " 102,\n",
       " 87,\n",
       " 109,\n",
       " 131,\n",
       " 114,\n",
       " 103,\n",
       " 101,\n",
       " 140,\n",
       " 113,\n",
       " 89,\n",
       " 113,\n",
       " 96,\n",
       " 136,\n",
       " 106,\n",
       " 108,\n",
       " 108,\n",
       " 98,\n",
       " 104,\n",
       " 117,\n",
       " 95,\n",
       " 111,\n",
       " 99,\n",
       " 106,\n",
       " 127,\n",
       " 127,\n",
       " 95,\n",
       " 121,\n",
       " 139,\n",
       " 136,\n",
       " 100,\n",
       " 116,\n",
       " 104,\n",
       " 80,\n",
       " 118,\n",
       " 106,\n",
       " 93,\n",
       " 106,\n",
       " 126,\n",
       " 111,\n",
       " 98,\n",
       " 106,\n",
       " 110,\n",
       " 112,\n",
       " 113,\n",
       " 114,\n",
       " 100,\n",
       " 99,\n",
       " 96,\n",
       " 93,\n",
       " 110,\n",
       " 141,\n",
       " 121,\n",
       " 90,\n",
       " 129,\n",
       " 125,\n",
       " 119,\n",
       " 122,\n",
       " 114,\n",
       " 125,\n",
       " 111,\n",
       " 115,\n",
       " 111,\n",
       " 108,\n",
       " 115,\n",
       " 123,\n",
       " 137,\n",
       " 114,\n",
       " 97,\n",
       " 124,\n",
       " 90,\n",
       " 111,\n",
       " 100,\n",
       " 112,\n",
       " 94,\n",
       " 122,\n",
       " 98,\n",
       " 106,\n",
       " 109,\n",
       " 99,\n",
       " 105,\n",
       " 115,\n",
       " 101,\n",
       " 111,\n",
       " 105,\n",
       " 121,\n",
       " 135,\n",
       " 102,\n",
       " 139,\n",
       " 94,\n",
       " 97,\n",
       " 127,\n",
       " 128,\n",
       " 93,\n",
       " 111,\n",
       " 126,\n",
       " 111,\n",
       " 122,\n",
       " 128,\n",
       " 114,\n",
       " 113,\n",
       " 98,\n",
       " 101,\n",
       " 93,\n",
       " 109,\n",
       " 125,\n",
       " 97,\n",
       " 103,\n",
       " 135,\n",
       " 125,\n",
       " 113,\n",
       " 78,\n",
       " 99,\n",
       " 125,\n",
       " 111,\n",
       " 108,\n",
       " 108,\n",
       " 108,\n",
       " 123,\n",
       " 126,\n",
       " 124,\n",
       " 112,\n",
       " 143,\n",
       " 126,\n",
       " 121,\n",
       " 134,\n",
       " 97,\n",
       " 93,\n",
       " 102,\n",
       " 95,\n",
       " 114,\n",
       " 114,\n",
       " 91,\n",
       " 118,\n",
       " 123,\n",
       " 87,\n",
       " 83,\n",
       " 112,\n",
       " 98,\n",
       " 116,\n",
       " 109,\n",
       " 126,\n",
       " 111,\n",
       " 115,\n",
       " 145,\n",
       " 120,\n",
       " 115,\n",
       " 110,\n",
       " 109,\n",
       " 123,\n",
       " 101,\n",
       " 135,\n",
       " 123,\n",
       " 103,\n",
       " 118,\n",
       " 93,\n",
       " 90,\n",
       " 111,\n",
       " 104,\n",
       " 93,\n",
       " 109,\n",
       " 144,\n",
       " 105,\n",
       " 97,\n",
       " 110,\n",
       " 80,\n",
       " 99,\n",
       " 105,\n",
       " 98,\n",
       " 94,\n",
       " 127,\n",
       " 130,\n",
       " 112,\n",
       " 107,\n",
       " 137,\n",
       " 118,\n",
       " 114,\n",
       " 108,\n",
       " 93,\n",
       " 85,\n",
       " 107,\n",
       " 111,\n",
       " 92,\n",
       " 123,\n",
       " 84,\n",
       " 110,\n",
       " 97,\n",
       " 112,\n",
       " 125,\n",
       " 137,\n",
       " 119,\n",
       " 107,\n",
       " 110,\n",
       " 90,\n",
       " 126,\n",
       " 89,\n",
       " 113,\n",
       " 138,\n",
       " 119,\n",
       " 139,\n",
       " 102,\n",
       " 114,\n",
       " 93,\n",
       " 112,\n",
       " 86,\n",
       " 107,\n",
       " 99,\n",
       " 93,\n",
       " 91,\n",
       " 111,\n",
       " 102,\n",
       " 117,\n",
       " 112,\n",
       " 90,\n",
       " 103,\n",
       " 92,\n",
       " 117,\n",
       " 85,\n",
       " 110,\n",
       " 81,\n",
       " 93,\n",
       " 122,\n",
       " 100,\n",
       " 95,\n",
       " 96,\n",
       " 115,\n",
       " 107,\n",
       " 102,\n",
       " 123,\n",
       " 107,\n",
       " 104,\n",
       " 128,\n",
       " 121,\n",
       " 133,\n",
       " 121,\n",
       " 120,\n",
       " 103,\n",
       " 97,\n",
       " 102,\n",
       " 87,\n",
       " 97,\n",
       " 109,\n",
       " 112,\n",
       " 129,\n",
       " 92,\n",
       " 89,\n",
       " 102,\n",
       " 105,\n",
       " 114,\n",
       " 96,\n",
       " 101,\n",
       " 99,\n",
       " 120,\n",
       " 116,\n",
       " 93,\n",
       " 123,\n",
       " 99,\n",
       " 116,\n",
       " 104,\n",
       " 124,\n",
       " 125,\n",
       " 139,\n",
       " 130,\n",
       " 113,\n",
       " 95,\n",
       " 102,\n",
       " 135,\n",
       " 122,\n",
       " 127,\n",
       " 117,\n",
       " 89,\n",
       " 96,\n",
       " 99,\n",
       " 114,\n",
       " 114,\n",
       " 118,\n",
       " 87,\n",
       " 139,\n",
       " 117,\n",
       " 106,\n",
       " 109,\n",
       " 102,\n",
       " 86,\n",
       " 111,\n",
       " 128,\n",
       " 127,\n",
       " 96,\n",
       " 110,\n",
       " 96,\n",
       " 102,\n",
       " 101,\n",
       " 108,\n",
       " 126,\n",
       " 109,\n",
       " 122,\n",
       " 137,\n",
       " 77,\n",
       " 95,\n",
       " 106,\n",
       " 110,\n",
       " 105,\n",
       " 111,\n",
       " 128,\n",
       " 121,\n",
       " 89,\n",
       " 96,\n",
       " 129,\n",
       " 139,\n",
       " 120,\n",
       " 111,\n",
       " 119,\n",
       " 101,\n",
       " 85,\n",
       " 133,\n",
       " 102,\n",
       " 106,\n",
       " 87,\n",
       " 118,\n",
       " 107,\n",
       " 100,\n",
       " 120,\n",
       " 122,\n",
       " 112,\n",
       " 108,\n",
       " 125,\n",
       " 105,\n",
       " 112,\n",
       " 132,\n",
       " 119,\n",
       " 123,\n",
       " 135,\n",
       " 128,\n",
       " 124,\n",
       " 99,\n",
       " 111,\n",
       " 111,\n",
       " 116,\n",
       " 117,\n",
       " 109,\n",
       " 92,\n",
       " 115,\n",
       " 116,\n",
       " 115,\n",
       " 118,\n",
       " 112,\n",
       " 117,\n",
       " 75,\n",
       " 109,\n",
       " 101,\n",
       " 96,\n",
       " 110,\n",
       " 117,\n",
       " 142,\n",
       " 114,\n",
       " 124,\n",
       " 135,\n",
       " 133,\n",
       " 120,\n",
       " 89,\n",
       " 106,\n",
       " 94,\n",
       " 99,\n",
       " 108,\n",
       " 125,\n",
       " 124,\n",
       " 84,\n",
       " 106,\n",
       " 118,\n",
       " 99,\n",
       " 104,\n",
       " 100,\n",
       " 137,\n",
       " 117,\n",
       " 113,\n",
       " 99,\n",
       " 100,\n",
       " 101,\n",
       " 133,\n",
       " 151,\n",
       " 107,\n",
       " 127,\n",
       " 82,\n",
       " 114,\n",
       " 100,\n",
       " 127,\n",
       " 129,\n",
       " 115,\n",
       " 120,\n",
       " 81,\n",
       " 92,\n",
       " 124,\n",
       " 134,\n",
       " 132,\n",
       " 119,\n",
       " 124,\n",
       " 122,\n",
       " 94,\n",
       " 88,\n",
       " 126,\n",
       " 110]"
      ]
     },
     "execution_count": 16,
     "metadata": {},
     "output_type": "execute_result"
    }
   ],
   "source": [
    "from random import shuffle\n",
    "lista = list(range(20))\n",
    "\n",
    "lista_comparaciones = []\n",
    "\n",
    "for i in range(500):\n",
    "    shuffle(lista)\n",
    "    lista_comparaciones.append(insertion_sort(lista))\n",
    "\n",
    "lista_comparaciones\n",
    "#len(lista_comparaciones)"
   ]
  },
  {
   "cell_type": "markdown",
   "metadata": {},
   "source": [
    "2\\.2 Usando $\\texttt{matplotlib}$, construir un gráfico de barras mostrando todos los conteos de operaciones obtenidos, en forma ordenada. Esto nos va a permitir apreciar cómo se distribuyen entre el peor y el mejor caso."
   ]
  },
  {
   "cell_type": "code",
   "execution_count": 17,
   "metadata": {},
   "outputs": [],
   "source": [
    "# (esta línea hace que los gráficos que generemos se visualicen dentro del notebook)\n",
    "%matplotlib inline \n",
    "import matplotlib.pyplot as plt\n",
    "\n",
    "\n"
   ]
  },
  {
   "cell_type": "code",
   "execution_count": 18,
   "metadata": {},
   "outputs": [
    {
     "data": {
      "text/plain": [
       "<Container object of 500 artists>"
      ]
     },
     "execution_count": 18,
     "metadata": {},
     "output_type": "execute_result"
    },
    {
     "data": {
      "image/png": "[encoded data removed]",
      "text/plain": [
       "<matplotlib.figure.Figure at 0x229b4148390>"
      ]
     },
     "metadata": {},
     "output_type": "display_data"
    }
   ],
   "source": [
    "insertion_sort(lista_comparaciones)\n",
    "plt.bar(list(range(500)), lista_comparaciones)"
   ]
  },
  {
   "cell_type": "markdown",
   "metadata": {},
   "source": [
    "# 3. ¿Cómo varía $\\texttt{ops}_c$ cuando n crece?"
   ]
  },
  {
   "cell_type": "markdown",
   "metadata": {},
   "source": [
    "3\\.1 Definir una función que tome el largo $n$ del arreglo y la cantidad $m$ de casos de prueba, y realice $m$ pruebas sobre arreglos de entrada ordenados al azar. La función debe devolver el valor promedio de $\\texttt{ops}_c$ sobre todos estos casos."
   ]
  },
  {
   "cell_type": "code",
   "execution_count": 42,
   "metadata": {},
   "outputs": [],
   "source": [
    "def promedio_ops_comp(n, m):\n",
    "    from random import shuffle\n",
    "    lista = list(range(n))\n",
    "    lista_comparaciones = []\n",
    "\n",
    "    for i in range(m):\n",
    "        shuffle(lista)\n",
    "        lista_comparaciones.append(insertion_sort(lista))\n",
    "    promedio = 0\n",
    "    for i in lista_comparaciones:\n",
    "        promedio += i\n",
    "    promedio /= m\n",
    "    return promedio\n"
   ]
  },
  {
   "cell_type": "code",
   "execution_count": 50,
   "metadata": {
    "scrolled": true
   },
   "outputs": [
    {
     "data": {
      "text/plain": [
       "111.564"
      ]
     },
     "execution_count": 50,
     "metadata": {},
     "output_type": "execute_result"
    }
   ],
   "source": [
    "promedio_ops_comp(20,500)"
   ]
  },
  {
   "cell_type": "markdown",
   "metadata": {},
   "source": [
    "3\\.2 Usando la función definida en el paso anterior, estimar la cantidad de operaciones promedio para arreglos de longitudes $n$ entre $20$ y $500$ (inclusive), haciendo variar $n$ de $20$ en $20$ (o sea: $n = 20, 40, \\ldots, 480, 500$). En cada caso, obtener el promedio tomando $500$ casos al azar.  "
   ]
  },
  {
   "cell_type": "code",
   "execution_count": 72,
   "metadata": {},
   "outputs": [],
   "source": [
    "def promedio_ops_comp_2():\n",
    "    from random import shuffle\n",
    "    lista = list(range(20,501,20))\n",
    "    lista_comparaciones = []\n",
    "\n",
    "    for i in range(500):\n",
    "        shuffle(lista)\n",
    "        lista_comparaciones.append(insertion_sort(lista))\n",
    "    promedio = 0\n",
    "    for i in lista_comparaciones:\n",
    "        promedio += i\n",
    "    promedio /= 500\n",
    "    return promedio, plt.plot(lista,lista_comparaciones)"
   ]
  },
  {
   "cell_type": "code",
   "execution_count": 73,
   "metadata": {},
   "outputs": [
    {
     "ename": "ValueError",
     "evalue": "x and y must have same first dimension, but have shapes (25,) and (500,)",
     "output_type": "error",
     "traceback": [
      "\u001b[1;31m---------------------------------------------------------------------------\u001b[0m",
      "\u001b[1;31mValueError\u001b[0m                                Traceback (most recent call last)",
      "\u001b[1;32m<ipython-input-73-dc3f8158f6c3>\u001b[0m in \u001b[0;36m<module>\u001b[1;34m()\u001b[0m\n\u001b[1;32m----> 1\u001b[1;33m \u001b[0mpromedio_ops_comp_2\u001b[0m\u001b[1;33m(\u001b[0m\u001b[1;33m)\u001b[0m\u001b[1;33m\u001b[0m\u001b[0m\n\u001b[0m",
      "\u001b[1;32m<ipython-input-72-99ca4387b6df>\u001b[0m in \u001b[0;36mpromedio_ops_comp_2\u001b[1;34m()\u001b[0m\n\u001b[0;32m     11\u001b[0m         \u001b[0mpromedio\u001b[0m \u001b[1;33m+=\u001b[0m \u001b[0mi\u001b[0m\u001b[1;33m\u001b[0m\u001b[0m\n\u001b[0;32m     12\u001b[0m     \u001b[0mpromedio\u001b[0m \u001b[1;33m/=\u001b[0m \u001b[1;36m500\u001b[0m\u001b[1;33m\u001b[0m\u001b[0m\n\u001b[1;32m---> 13\u001b[1;33m     \u001b[1;32mreturn\u001b[0m \u001b[0mpromedio\u001b[0m\u001b[1;33m,\u001b[0m \u001b[0mplt\u001b[0m\u001b[1;33m.\u001b[0m\u001b[0mplot\u001b[0m\u001b[1;33m(\u001b[0m\u001b[0mlista\u001b[0m\u001b[1;33m,\u001b[0m\u001b[0mlista_comparaciones\u001b[0m\u001b[1;33m)\u001b[0m\u001b[1;33m\u001b[0m\u001b[0m\n\u001b[0m",
      "\u001b[1;32m~\\Anaconda3\\lib\\site-packages\\matplotlib\\pyplot.py\u001b[0m in \u001b[0;36mplot\u001b[1;34m(*args, **kwargs)\u001b[0m\n\u001b[0;32m   3259\u001b[0m                       mplDeprecation)\n\u001b[0;32m   3260\u001b[0m     \u001b[1;32mtry\u001b[0m\u001b[1;33m:\u001b[0m\u001b[1;33m\u001b[0m\u001b[0m\n\u001b[1;32m-> 3261\u001b[1;33m         \u001b[0mret\u001b[0m \u001b[1;33m=\u001b[0m \u001b[0max\u001b[0m\u001b[1;33m.\u001b[0m\u001b[0mplot\u001b[0m\u001b[1;33m(\u001b[0m\u001b[1;33m*\u001b[0m\u001b[0margs\u001b[0m\u001b[1;33m,\u001b[0m \u001b[1;33m**\u001b[0m\u001b[0mkwargs\u001b[0m\u001b[1;33m)\u001b[0m\u001b[1;33m\u001b[0m\u001b[0m\n\u001b[0m\u001b[0;32m   3262\u001b[0m     \u001b[1;32mfinally\u001b[0m\u001b[1;33m:\u001b[0m\u001b[1;33m\u001b[0m\u001b[0m\n\u001b[0;32m   3263\u001b[0m         \u001b[0max\u001b[0m\u001b[1;33m.\u001b[0m\u001b[0m_hold\u001b[0m \u001b[1;33m=\u001b[0m \u001b[0mwashold\u001b[0m\u001b[1;33m\u001b[0m\u001b[0m\n",
      "\u001b[1;32m~\\Anaconda3\\lib\\site-packages\\matplotlib\\__init__.py\u001b[0m in \u001b[0;36minner\u001b[1;34m(ax, *args, **kwargs)\u001b[0m\n\u001b[0;32m   1715\u001b[0m                     warnings.warn(msg % (label_namer, func.__name__),\n\u001b[0;32m   1716\u001b[0m                                   RuntimeWarning, stacklevel=2)\n\u001b[1;32m-> 1717\u001b[1;33m             \u001b[1;32mreturn\u001b[0m \u001b[0mfunc\u001b[0m\u001b[1;33m(\u001b[0m\u001b[0max\u001b[0m\u001b[1;33m,\u001b[0m \u001b[1;33m*\u001b[0m\u001b[0margs\u001b[0m\u001b[1;33m,\u001b[0m \u001b[1;33m**\u001b[0m\u001b[0mkwargs\u001b[0m\u001b[1;33m)\u001b[0m\u001b[1;33m\u001b[0m\u001b[0m\n\u001b[0m\u001b[0;32m   1718\u001b[0m         \u001b[0mpre_doc\u001b[0m \u001b[1;33m=\u001b[0m \u001b[0minner\u001b[0m\u001b[1;33m.\u001b[0m\u001b[0m__doc__\u001b[0m\u001b[1;33m\u001b[0m\u001b[0m\n\u001b[0;32m   1719\u001b[0m         \u001b[1;32mif\u001b[0m \u001b[0mpre_doc\u001b[0m \u001b[1;32mis\u001b[0m \u001b[1;32mNone\u001b[0m\u001b[1;33m:\u001b[0m\u001b[1;33m\u001b[0m\u001b[0m\n",
      "\u001b[1;32m~\\Anaconda3\\lib\\site-packages\\matplotlib\\axes\\_axes.py\u001b[0m in \u001b[0;36mplot\u001b[1;34m(self, *args, **kwargs)\u001b[0m\n\u001b[0;32m   1370\u001b[0m         \u001b[0mkwargs\u001b[0m \u001b[1;33m=\u001b[0m \u001b[0mcbook\u001b[0m\u001b[1;33m.\u001b[0m\u001b[0mnormalize_kwargs\u001b[0m\u001b[1;33m(\u001b[0m\u001b[0mkwargs\u001b[0m\u001b[1;33m,\u001b[0m \u001b[0m_alias_map\u001b[0m\u001b[1;33m)\u001b[0m\u001b[1;33m\u001b[0m\u001b[0m\n\u001b[0;32m   1371\u001b[0m \u001b[1;33m\u001b[0m\u001b[0m\n\u001b[1;32m-> 1372\u001b[1;33m         \u001b[1;32mfor\u001b[0m \u001b[0mline\u001b[0m \u001b[1;32min\u001b[0m \u001b[0mself\u001b[0m\u001b[1;33m.\u001b[0m\u001b[0m_get_lines\u001b[0m\u001b[1;33m(\u001b[0m\u001b[1;33m*\u001b[0m\u001b[0margs\u001b[0m\u001b[1;33m,\u001b[0m \u001b[1;33m**\u001b[0m\u001b[0mkwargs\u001b[0m\u001b[1;33m)\u001b[0m\u001b[1;33m:\u001b[0m\u001b[1;33m\u001b[0m\u001b[0m\n\u001b[0m\u001b[0;32m   1373\u001b[0m             \u001b[0mself\u001b[0m\u001b[1;33m.\u001b[0m\u001b[0madd_line\u001b[0m\u001b[1;33m(\u001b[0m\u001b[0mline\u001b[0m\u001b[1;33m)\u001b[0m\u001b[1;33m\u001b[0m\u001b[0m\n\u001b[0;32m   1374\u001b[0m             \u001b[0mlines\u001b[0m\u001b[1;33m.\u001b[0m\u001b[0mappend\u001b[0m\u001b[1;33m(\u001b[0m\u001b[0mline\u001b[0m\u001b[1;33m)\u001b[0m\u001b[1;33m\u001b[0m\u001b[0m\n",
      "\u001b[1;32m~\\Anaconda3\\lib\\site-packages\\matplotlib\\axes\\_base.py\u001b[0m in \u001b[0;36m_grab_next_args\u001b[1;34m(self, *args, **kwargs)\u001b[0m\n\u001b[0;32m    402\u001b[0m                 \u001b[0mthis\u001b[0m \u001b[1;33m+=\u001b[0m \u001b[0margs\u001b[0m\u001b[1;33m[\u001b[0m\u001b[1;36m0\u001b[0m\u001b[1;33m]\u001b[0m\u001b[1;33m,\u001b[0m\u001b[1;33m\u001b[0m\u001b[0m\n\u001b[0;32m    403\u001b[0m                 \u001b[0margs\u001b[0m \u001b[1;33m=\u001b[0m \u001b[0margs\u001b[0m\u001b[1;33m[\u001b[0m\u001b[1;36m1\u001b[0m\u001b[1;33m:\u001b[0m\u001b[1;33m]\u001b[0m\u001b[1;33m\u001b[0m\u001b[0m\n\u001b[1;32m--> 404\u001b[1;33m             \u001b[1;32mfor\u001b[0m \u001b[0mseg\u001b[0m \u001b[1;32min\u001b[0m \u001b[0mself\u001b[0m\u001b[1;33m.\u001b[0m\u001b[0m_plot_args\u001b[0m\u001b[1;33m(\u001b[0m\u001b[0mthis\u001b[0m\u001b[1;33m,\u001b[0m \u001b[0mkwargs\u001b[0m\u001b[1;33m)\u001b[0m\u001b[1;33m:\u001b[0m\u001b[1;33m\u001b[0m\u001b[0m\n\u001b[0m\u001b[0;32m    405\u001b[0m                 \u001b[1;32myield\u001b[0m \u001b[0mseg\u001b[0m\u001b[1;33m\u001b[0m\u001b[0m\n\u001b[0;32m    406\u001b[0m \u001b[1;33m\u001b[0m\u001b[0m\n",
      "\u001b[1;32m~\\Anaconda3\\lib\\site-packages\\matplotlib\\axes\\_base.py\u001b[0m in \u001b[0;36m_plot_args\u001b[1;34m(self, tup, kwargs)\u001b[0m\n\u001b[0;32m    382\u001b[0m             \u001b[0mx\u001b[0m\u001b[1;33m,\u001b[0m \u001b[0my\u001b[0m \u001b[1;33m=\u001b[0m \u001b[0mindex_of\u001b[0m\u001b[1;33m(\u001b[0m\u001b[0mtup\u001b[0m\u001b[1;33m[\u001b[0m\u001b[1;33m-\u001b[0m\u001b[1;36m1\u001b[0m\u001b[1;33m]\u001b[0m\u001b[1;33m)\u001b[0m\u001b[1;33m\u001b[0m\u001b[0m\n\u001b[0;32m    383\u001b[0m \u001b[1;33m\u001b[0m\u001b[0m\n\u001b[1;32m--> 384\u001b[1;33m         \u001b[0mx\u001b[0m\u001b[1;33m,\u001b[0m \u001b[0my\u001b[0m \u001b[1;33m=\u001b[0m \u001b[0mself\u001b[0m\u001b[1;33m.\u001b[0m\u001b[0m_xy_from_xy\u001b[0m\u001b[1;33m(\u001b[0m\u001b[0mx\u001b[0m\u001b[1;33m,\u001b[0m \u001b[0my\u001b[0m\u001b[1;33m)\u001b[0m\u001b[1;33m\u001b[0m\u001b[0m\n\u001b[0m\u001b[0;32m    385\u001b[0m \u001b[1;33m\u001b[0m\u001b[0m\n\u001b[0;32m    386\u001b[0m         \u001b[1;32mif\u001b[0m \u001b[0mself\u001b[0m\u001b[1;33m.\u001b[0m\u001b[0mcommand\u001b[0m \u001b[1;33m==\u001b[0m \u001b[1;34m'plot'\u001b[0m\u001b[1;33m:\u001b[0m\u001b[1;33m\u001b[0m\u001b[0m\n",
      "\u001b[1;32m~\\Anaconda3\\lib\\site-packages\\matplotlib\\axes\\_base.py\u001b[0m in \u001b[0;36m_xy_from_xy\u001b[1;34m(self, x, y)\u001b[0m\n\u001b[0;32m    241\u001b[0m         \u001b[1;32mif\u001b[0m \u001b[0mx\u001b[0m\u001b[1;33m.\u001b[0m\u001b[0mshape\u001b[0m\u001b[1;33m[\u001b[0m\u001b[1;36m0\u001b[0m\u001b[1;33m]\u001b[0m \u001b[1;33m!=\u001b[0m \u001b[0my\u001b[0m\u001b[1;33m.\u001b[0m\u001b[0mshape\u001b[0m\u001b[1;33m[\u001b[0m\u001b[1;36m0\u001b[0m\u001b[1;33m]\u001b[0m\u001b[1;33m:\u001b[0m\u001b[1;33m\u001b[0m\u001b[0m\n\u001b[0;32m    242\u001b[0m             raise ValueError(\"x and y must have same first dimension, but \"\n\u001b[1;32m--> 243\u001b[1;33m                              \"have shapes {} and {}\".format(x.shape, y.shape))\n\u001b[0m\u001b[0;32m    244\u001b[0m         \u001b[1;32mif\u001b[0m \u001b[0mx\u001b[0m\u001b[1;33m.\u001b[0m\u001b[0mndim\u001b[0m \u001b[1;33m>\u001b[0m \u001b[1;36m2\u001b[0m \u001b[1;32mor\u001b[0m \u001b[0my\u001b[0m\u001b[1;33m.\u001b[0m\u001b[0mndim\u001b[0m \u001b[1;33m>\u001b[0m \u001b[1;36m2\u001b[0m\u001b[1;33m:\u001b[0m\u001b[1;33m\u001b[0m\u001b[0m\n\u001b[0;32m    245\u001b[0m             raise ValueError(\"x and y can be no greater than 2-D, but have \"\n",
      "\u001b[1;31mValueError\u001b[0m: x and y must have same first dimension, but have shapes (25,) and (500,)"
     ]
    },
    {
     "data": {
      "image/png": "[encoded data removed]",
      "text/plain": [
       "<matplotlib.figure.Figure at 0x229b505a978>"
      ]
     },
     "metadata": {},
     "output_type": "display_data"
    }
   ],
   "source": [
    "promedio_ops_comp_2()"
   ]
  },
  {
   "cell_type": "markdown",
   "metadata": {},
   "source": [
    "3\\.3 Graficar $\\texttt{ops}_c$ promedio en función de $n$. ¿Qué forma esperamos que tenga el gráfico según lo visto en el teórico?"
   ]
  },
  {
   "cell_type": "code",
   "execution_count": 69,
   "metadata": {},
   "outputs": [
    {
     "data": {
      "text/plain": [
       "[<matplotlib.lines.Line2D at 0x229b4677eb8>]"
      ]
     },
     "execution_count": 69,
     "metadata": {},
     "output_type": "execute_result"
    },
    {
     "data": {
      "image/png": "[encoded data removed]",
      "text/plain": [
       "<matplotlib.figure.Figure at 0x229b475ea58>"
      ]
     },
     "metadata": {},
     "output_type": "display_data"
    }
   ],
   "source": [
    "y = promedio_ops_comp(31,150)\n",
    "\n",
    "plt.plot?\n",
    "\n",
    "\n",
    "plt.plot(promedio_ops_comp_2())"
   ]
  },
  {
   "cell_type": "code",
   "execution_count": 71,
   "metadata": {},
   "outputs": [],
   "source": [
    "plt.plot?"
   ]
  },
  {
   "cell_type": "markdown",
   "metadata": {},
   "source": [
    "3\\.4 Graficar además la función $n^2$ sobre el mismo rango de valores de $n$ de antes. ¿Qué pueden observar? ¿En qué se parecen y diferencian los dos gráficos?"
   ]
  }
 ],
 "metadata": {
  "kernelspec": {
   "display_name": "Python 3",
   "language": "python",
   "name": "python3"
  },
  "language_info": {
   "codemirror_mode": {
    "name": "ipython",
    "version": 3
   },
   "file_extension": ".py",
   "mimetype": "text/x-python",
   "name": "python",
   "nbconvert_exporter": "python",
   "pygments_lexer": "ipython3",
   "version": "3.6.5"
  }
 },
 "nbformat": 4,
 "nbformat_minor": 1
}
